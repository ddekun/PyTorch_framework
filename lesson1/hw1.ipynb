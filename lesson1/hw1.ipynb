{
  "nbformat": 4,
  "nbformat_minor": 0,
  "metadata": {
    "colab": {
      "provenance": [],
      "authorship_tag": "ABX9TyOeHnHOjtSIULB6r3asU8mP",
      "include_colab_link": true
    },
    "kernelspec": {
      "name": "python3",
      "display_name": "Python 3"
    },
    "language_info": {
      "name": "python"
    }
  },
  "cells": [
    {
      "cell_type": "markdown",
      "metadata": {
        "id": "view-in-github",
        "colab_type": "text"
      },
      "source": [
        "<a href=\"https://colab.research.google.com/github/ddekun/PyTorch_framework/blob/lesson1/lesson1/hw1.ipynb\" target=\"_parent\"><img src=\"https://colab.research.google.com/assets/colab-badge.svg\" alt=\"Open In Colab\"/></a>"
      ]
    },
    {
      "cell_type": "markdown",
      "source": [
        "# Фреймворк PyTorch для разработки искусственных нейронных сетей"
      ],
      "metadata": {
        "id": "dF9lOMFRaFCc"
      }
    },
    {
      "cell_type": "markdown",
      "source": [
        "### Урок 1. Основные понятия и структуры PyTorch"
      ],
      "metadata": {
        "id": "5FY5gEMYaH_e"
      }
    },
    {
      "cell_type": "markdown",
      "source": [
        "Создайте случайный FloatTensor размера 3x4x5\n",
        "\n",
        "Выведите его форму (shape)\n",
        "\n",
        "Приведите его к форме 6х10\n",
        "\n",
        "Создайте случайный IntTensor размера 10\n",
        "\n",
        "Умножьте созданный FloatTensor на созданный IntTensor поэлементно\n",
        "\n",
        "Умножьте тензор матрично на себя, чтобы результат был размерности 6x6\n",
        "\n",
        "Подсказка: .dot может не подойти\n",
        "\n",
        "Посчитайте производную функции y = x**3 + z - 75t в точке (1, 0.5, 2)\n",
        "\n",
        "Создайте единичный тензор размера 5x6\n",
        "\n",
        "Переведите его в формат numpy"
      ],
      "metadata": {
        "id": "yVq9OcmxaKd6"
      }
    },
    {
      "cell_type": "code",
      "execution_count": 1,
      "metadata": {
        "id": "wzv_gHbTZxV2"
      },
      "outputs": [],
      "source": [
        "import torch"
      ]
    },
    {
      "cell_type": "code",
      "source": [
        "# 1. Создайте случайный FloatTensor размера 3x4x5\n",
        "\n",
        "x = torch.randn(3, 4, 5)\n",
        "x, x.type()"
      ],
      "metadata": {
        "colab": {
          "base_uri": "https://localhost:8080/"
        },
        "id": "K1lp5AQAaU7a",
        "outputId": "318eace7-f064-4274-d512-226f53e17132"
      },
      "execution_count": 2,
      "outputs": [
        {
          "output_type": "execute_result",
          "data": {
            "text/plain": [
              "(tensor([[[ 0.9482,  0.0660, -0.5293, -1.3641, -1.3941],\n",
              "          [-0.4267,  0.1033, -0.7336, -0.8792, -1.2097],\n",
              "          [-1.7229,  0.4023, -1.4431,  1.1608,  0.7541],\n",
              "          [ 1.7386,  0.3163, -0.1360, -0.8178,  1.0720]],\n",
              " \n",
              "         [[-0.8304,  1.0878, -1.3086,  1.1158, -0.3920],\n",
              "          [-0.6660, -0.1270,  0.5860, -1.2018,  0.5475],\n",
              "          [ 0.0630, -0.4564,  1.3766, -0.5334,  1.3642],\n",
              "          [ 0.5864,  0.6006,  1.5115, -2.2085, -0.9250]],\n",
              " \n",
              "         [[ 0.7432, -0.6280, -0.7483, -0.0975,  0.5778],\n",
              "          [ 1.4053,  0.9843,  0.2359, -2.0276, -0.5857],\n",
              "          [-0.0740, -1.3562, -0.0484,  0.4201,  0.5969],\n",
              "          [-0.2380, -0.7197, -1.6234,  1.0274,  1.0600]]]),\n",
              " 'torch.FloatTensor')"
            ]
          },
          "metadata": {},
          "execution_count": 2
        }
      ]
    },
    {
      "cell_type": "code",
      "source": [
        "# 2. Выведите его форму (shape)\n",
        "x.shape"
      ],
      "metadata": {
        "colab": {
          "base_uri": "https://localhost:8080/"
        },
        "id": "GxnykzW4aXfZ",
        "outputId": "d3645540-5ced-456b-bf2b-8fa4096816fc"
      },
      "execution_count": 3,
      "outputs": [
        {
          "output_type": "execute_result",
          "data": {
            "text/plain": [
              "torch.Size([3, 4, 5])"
            ]
          },
          "metadata": {},
          "execution_count": 3
        }
      ]
    },
    {
      "cell_type": "code",
      "source": [
        "# 3. Приведите его к форме 6х10\n",
        "x = x.reshape(6, 10)\n",
        "x"
      ],
      "metadata": {
        "colab": {
          "base_uri": "https://localhost:8080/"
        },
        "id": "nSfN0lO6aaba",
        "outputId": "00a3a2ab-078a-4083-855c-e894a6876b1a"
      },
      "execution_count": 4,
      "outputs": [
        {
          "output_type": "execute_result",
          "data": {
            "text/plain": [
              "tensor([[ 0.9482,  0.0660, -0.5293, -1.3641, -1.3941, -0.4267,  0.1033, -0.7336,\n",
              "         -0.8792, -1.2097],\n",
              "        [-1.7229,  0.4023, -1.4431,  1.1608,  0.7541,  1.7386,  0.3163, -0.1360,\n",
              "         -0.8178,  1.0720],\n",
              "        [-0.8304,  1.0878, -1.3086,  1.1158, -0.3920, -0.6660, -0.1270,  0.5860,\n",
              "         -1.2018,  0.5475],\n",
              "        [ 0.0630, -0.4564,  1.3766, -0.5334,  1.3642,  0.5864,  0.6006,  1.5115,\n",
              "         -2.2085, -0.9250],\n",
              "        [ 0.7432, -0.6280, -0.7483, -0.0975,  0.5778,  1.4053,  0.9843,  0.2359,\n",
              "         -2.0276, -0.5857],\n",
              "        [-0.0740, -1.3562, -0.0484,  0.4201,  0.5969, -0.2380, -0.7197, -1.6234,\n",
              "          1.0274,  1.0600]])"
            ]
          },
          "metadata": {},
          "execution_count": 4
        }
      ]
    },
    {
      "cell_type": "code",
      "source": [
        "# 4. Создайте случайный IntTensor размера 10\n",
        "a = torch.randint(10, size=(10,)).type(torch.IntTensor)\n",
        "a, a.type()"
      ],
      "metadata": {
        "colab": {
          "base_uri": "https://localhost:8080/"
        },
        "id": "AY6zVUPhagRl",
        "outputId": "6aa3a43f-26aa-4816-a316-541e2df7ea79"
      },
      "execution_count": 5,
      "outputs": [
        {
          "output_type": "execute_result",
          "data": {
            "text/plain": [
              "(tensor([2, 4, 5, 2, 0, 7, 3, 6, 0, 7], dtype=torch.int32), 'torch.IntTensor')"
            ]
          },
          "metadata": {},
          "execution_count": 5
        }
      ]
    },
    {
      "cell_type": "code",
      "source": [
        "# 5. Умножьте созданный FloatTensor на созданный IntTensor поэлементно\n",
        "xa = x * a\n",
        "xa"
      ],
      "metadata": {
        "colab": {
          "base_uri": "https://localhost:8080/"
        },
        "id": "W5LVa-Bpajd1",
        "outputId": "a4299aec-107c-4ee6-e36f-c6116148d235"
      },
      "execution_count": 6,
      "outputs": [
        {
          "output_type": "execute_result",
          "data": {
            "text/plain": [
              "tensor([[ 1.8964,  0.2639, -2.6467, -2.7281, -0.0000, -2.9870,  0.3099, -4.4013,\n",
              "         -0.0000, -8.4678],\n",
              "        [-3.4458,  1.6094, -7.2156,  2.3216,  0.0000, 12.1704,  0.9490, -0.8158,\n",
              "         -0.0000,  7.5042],\n",
              "        [-1.6608,  4.3513, -6.5431,  2.2316, -0.0000, -4.6623, -0.3809,  3.5159,\n",
              "         -0.0000,  3.8328],\n",
              "        [ 0.1260, -1.8255,  6.8829, -1.0669,  0.0000,  4.1051,  1.8017,  9.0692,\n",
              "         -0.0000, -6.4748],\n",
              "        [ 1.4864, -2.5119, -3.7415, -0.1950,  0.0000,  9.8369,  2.9528,  1.4156,\n",
              "         -0.0000, -4.1001],\n",
              "        [-0.1481, -5.4250, -0.2419,  0.8402,  0.0000, -1.6663, -2.1592, -9.7403,\n",
              "          0.0000,  7.4197]])"
            ]
          },
          "metadata": {},
          "execution_count": 6
        }
      ]
    },
    {
      "cell_type": "code",
      "source": [
        "# 6. Умножьте тензор матрично на себя, чтобы результат был размерности 6x6\n",
        "# Подсказка: .dot может не подойти\n",
        "\n",
        "xa_xa = xa @ xa.T\n",
        "xa_xa"
      ],
      "metadata": {
        "colab": {
          "base_uri": "https://localhost:8080/"
        },
        "id": "rV1aCjB9amUm",
        "outputId": "120ed76f-0c5b-4b1c-d4c8-515d891600a1"
      },
      "execution_count": 7,
      "outputs": [
        {
          "output_type": "execute_result",
          "data": {
            "text/plain": [
              "tensor([[ 118.2067,  -89.3575,  -24.8938,  -12.3419,   12.6110,  -19.0135],\n",
              "        [ -89.3575,  277.9163,   33.9088,  -59.8293,  107.9793,   36.7717],\n",
              "        [ -24.8938,   33.9088,  118.4180,  -68.3251,  -47.0782,  -17.1179],\n",
              "        [ -12.3419,  -59.8293,  -68.3251,  196.1330,   64.3161, -139.7855],\n",
              "        [  12.6110,  107.9793,  -47.0782,   64.3161,  146.8539,  -52.8282],\n",
              "        [ -19.0135,   36.7717,  -17.1179, -139.7855,  -52.8282,  187.5808]])"
            ]
          },
          "metadata": {},
          "execution_count": 7
        }
      ]
    },
    {
      "cell_type": "code",
      "source": [
        "# 7. Посчитайте производную функции y = x**3 + z - 75t в точке (1, 0.5, 2)\n",
        "\n",
        "x = torch.tensor([1.], requires_grad=True)\n",
        "z = torch.tensor([0.5], requires_grad=True)\n",
        "t = torch.tensor([2.], requires_grad=True)\n",
        "\n",
        "y = x**3 + z - 75*t\n",
        "\n",
        "y.backward()\n",
        "\n",
        "print('dy/dx: ', x.grad)\n",
        "print('dy/dz: ', z.grad)\n",
        "print('dy/dt: ', t.grad)"
      ],
      "metadata": {
        "colab": {
          "base_uri": "https://localhost:8080/"
        },
        "id": "kRGanQpjanYS",
        "outputId": "ce6f978f-59ad-40a6-b875-a0f547975269"
      },
      "execution_count": 8,
      "outputs": [
        {
          "output_type": "stream",
          "name": "stdout",
          "text": [
            "dy/dx:  tensor([3.])\n",
            "dy/dz:  tensor([1.])\n",
            "dy/dt:  tensor([-75.])\n"
          ]
        }
      ]
    },
    {
      "cell_type": "code",
      "source": [
        "# 8. Создайте единичный тензор размера 5x6\n",
        "\n",
        "t_ones = torch.ones(5, 6)\n",
        "t_ones"
      ],
      "metadata": {
        "colab": {
          "base_uri": "https://localhost:8080/"
        },
        "id": "o9w5XjQwapct",
        "outputId": "853400a8-9e4d-474d-b53d-d26874adb29a"
      },
      "execution_count": 9,
      "outputs": [
        {
          "output_type": "execute_result",
          "data": {
            "text/plain": [
              "tensor([[1., 1., 1., 1., 1., 1.],\n",
              "        [1., 1., 1., 1., 1., 1.],\n",
              "        [1., 1., 1., 1., 1., 1.],\n",
              "        [1., 1., 1., 1., 1., 1.],\n",
              "        [1., 1., 1., 1., 1., 1.]])"
            ]
          },
          "metadata": {},
          "execution_count": 9
        }
      ]
    },
    {
      "cell_type": "code",
      "source": [
        "# 9. Переведите его в формат numpy\n",
        "\n",
        "t_ones = t_ones.numpy()\n",
        "t_ones"
      ],
      "metadata": {
        "colab": {
          "base_uri": "https://localhost:8080/"
        },
        "id": "FlRYGp6maseU",
        "outputId": "cd7f2517-9d67-4585-d309-effcd92de948"
      },
      "execution_count": 10,
      "outputs": [
        {
          "output_type": "execute_result",
          "data": {
            "text/plain": [
              "array([[1., 1., 1., 1., 1., 1.],\n",
              "       [1., 1., 1., 1., 1., 1.],\n",
              "       [1., 1., 1., 1., 1., 1.],\n",
              "       [1., 1., 1., 1., 1., 1.],\n",
              "       [1., 1., 1., 1., 1., 1.]], dtype=float32)"
            ]
          },
          "metadata": {},
          "execution_count": 10
        }
      ]
    }
  ]
}